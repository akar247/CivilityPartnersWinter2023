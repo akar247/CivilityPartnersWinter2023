{
 "cells": [
  {
   "cell_type": "code",
   "execution_count": 34,
   "metadata": {},
   "outputs": [],
   "source": [
    "from openpyxl import load_workbook\n",
    "\n",
    "workbook = load_workbook(filename=\"Survey.xlsx\") \n",
    "#workbook.sheetnames\n",
    "#workbook.worksheets\n",
    "import docx"
   ]
  },
  {
   "cell_type": "code",
   "execution_count": 26,
   "metadata": {},
   "outputs": [],
   "source": [
    "\n",
    "free_responses={}\n",
    "for sheet in workbook.worksheets:\n",
    "    for i in range(1,20):\n",
    "        s=sheet[f\"A{i}\"].value\n",
    "        if s =='Respondent ID':\n",
    "            #print(sheet.title)\n",
    "            res=[]\n",
    "            for cell in sheet['C']:\n",
    "                if (cell.value!=None) and (cell.value!='Responses'):\n",
    "                    res.append(cell.value) # add res to that single question \n",
    "            #print(res)\n",
    "            free_responses[sheet.title]=res  #add list of res to one question to the big list\n",
    "            break\n",
    "        free_responses[sheet.title]=None\n",
    "#free_responses"
   ]
  },
  {
   "cell_type": "code",
   "execution_count": 83,
   "metadata": {},
   "outputs": [],
   "source": [
    "#free_responses\n"
   ]
  },
  {
   "cell_type": "code",
   "execution_count": 31,
   "metadata": {},
   "outputs": [],
   "source": [
    "doc = docx.Document()\n",
    "for key,values in free_responses.items():\n",
    "    doc.add_paragraph(key)\n",
    "    if values != None:\n",
    "        for res in values:\n",
    "            doc.add_paragraph(res,style='List Bullet 2')\n",
    "    else:\n",
    "        doc.add_picture(f'Images/Survey{key}.png')\n",
    "doc.save('output.docx')\n"
   ]
  },
  {
   "cell_type": "code",
   "execution_count": 80,
   "metadata": {},
   "outputs": [],
   "source": [
    "from openpyxl.chart import BarChart, Series, Reference\n",
    "from openpyxl.chart.label import DataLabelList\n",
    "wb = load_workbook(filename=\"Survey.xlsx\") \n",
    "ws = wb.active\n"
   ]
  },
  {
   "cell_type": "code",
   "execution_count": 81,
   "metadata": {},
   "outputs": [
    {
     "data": {
      "text/plain": [
       "'There is an atmosphere of respect and trust within my department.'"
      ]
     },
     "execution_count": 81,
     "metadata": {},
     "output_type": "execute_result"
    }
   ],
   "source": [
    "# title of the Barchart\n",
    "#ws[\"A2\"].value"
   ]
  },
  {
   "cell_type": "code",
   "execution_count": 82,
   "metadata": {},
   "outputs": [],
   "source": [
    "# Data for plotting\n",
    "values = Reference(ws, min_col= 3, min_row=4, max_col = 3, max_row = 7)\n",
    "cats = Reference(ws, min_col=1, max_col=1, min_row=4, max_row=7)\n",
    "\n",
    "# Create object of BarChart class\n",
    "chart = BarChart()\n",
    "chart.height = 20\n",
    "chart.width = 30\n",
    "chart.add_data(values, titles_from_data=True)\n",
    "chart.set_categories(cats)\n",
    "# set the title of the chart\n",
    "chart.title = ws[\"A2\"].value\n",
    "chart.dataLabels = DataLabelList()\n",
    "\n",
    "chart.dataLabels.showPercent = True\n",
    "# the top-left corner of the chart\n",
    "# is anchored to cell F2 .\n",
    "ws.add_chart(chart,\"H2\")\n",
    "\n",
    "# save the file \n",
    "wb.save(\"test.xlsx\")   ###check the test result at new created \"test.xlsx\" file "
   ]
  },
  {
   "cell_type": "code",
   "execution_count": null,
   "metadata": {},
   "outputs": [],
   "source": []
  }
 ],
 "metadata": {
  "interpreter": {
   "hash": "8a8e84e92a9047c5e1f92d8b75e5225db6346aa8f60b8ab121598a6d81c0a2c3"
  },
  "kernelspec": {
   "display_name": "Python 3.8.13 ('dsc80')",
   "language": "python",
   "name": "python3"
  },
  "language_info": {
   "codemirror_mode": {
    "name": "ipython",
    "version": 3
   },
   "file_extension": ".py",
   "mimetype": "text/x-python",
   "name": "python",
   "nbconvert_exporter": "python",
   "pygments_lexer": "ipython3",
   "version": "3.8.13"
  },
  "orig_nbformat": 4
 },
 "nbformat": 4,
 "nbformat_minor": 2
}
