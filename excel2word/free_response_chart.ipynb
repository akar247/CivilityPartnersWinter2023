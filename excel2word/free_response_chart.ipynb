{
 "cells": [
  {
   "cell_type": "code",
   "execution_count": 96,
   "metadata": {},
   "outputs": [],
   "source": [
    "from openpyxl import load_workbook\n",
    "\n",
    "workbook = load_workbook(filename=\"Survey.xlsx\") \n",
    "#workbook.sheetnames\n",
    "#workbook.worksheets\n",
    "import docx"
   ]
  },
  {
   "cell_type": "code",
   "execution_count": 148,
   "metadata": {},
   "outputs": [],
   "source": [
    "\n",
    "free_responses={}\n",
    "for sheet in workbook.worksheets:\n",
    "    for i in range(1,50):\n",
    "        s=sheet[f\"A{i}\"].value\n",
    "        if s =='Respondent ID': # if the question is free-response\n",
    "            res=[]\n",
    "            #for cell in sheet[f'C{i+1}:C1048576']:\n",
    "            for value in sheet.iter_rows(min_row=i+1,min_col=3, max_col=3,values_only=True):\n",
    "                if (value[0]!=None):\n",
    "                    res.append(value[0]) # add res to that single question \n",
    "            #print(res)\n",
    "            free_responses[sheet.title]=res  #add list of res to one question to the big list\n",
    "            break\n",
    "\n",
    "#free_responses['Question 25']"
   ]
  },
  {
   "cell_type": "code",
   "execution_count": 149,
   "metadata": {},
   "outputs": [
    {
     "data": {
      "text/plain": [
       "list"
      ]
     },
     "execution_count": 149,
     "metadata": {},
     "output_type": "execute_result"
    }
   ],
   "source": [
    "type(free_responses['Question 25'])"
   ]
  },
  {
   "cell_type": "code",
   "execution_count": 150,
   "metadata": {},
   "outputs": [
    {
     "data": {
      "text/plain": [
       "str"
      ]
     },
     "execution_count": 150,
     "metadata": {},
     "output_type": "execute_result"
    }
   ],
   "source": [
    "type(free_responses['Question 25'][0])"
   ]
  },
  {
   "cell_type": "code",
   "execution_count": 152,
   "metadata": {},
   "outputs": [
    {
     "name": "stdout",
     "output_type": "stream",
     "text": [
      "Question 25\n",
      "Question 39\n",
      "Question 55\n",
      "Question 78\n",
      "Question 83\n",
      "Question 85\n",
      "Question 86\n",
      "Question 87\n",
      "Question 88\n",
      "Question 89\n",
      "Question 90\n",
      "Question 91\n"
     ]
    }
   ],
   "source": [
    "doc = docx.Document()\n",
    "for key,values in free_responses.items():\n",
    "    doc.add_paragraph(key)\n",
    "    if values != None:\n",
    "        print(key)\n",
    "        for res in values:\n",
    "            doc.add_paragraph(res,style='List Bullet 2')\n",
    "    # else:\n",
    "    #     doc.add_picture(f'Images/Survey{key}.png')\n",
    "doc.save('output.docx')\n"
   ]
  },
  {
   "cell_type": "markdown",
   "metadata": {},
   "source": [
    "following code is to create chart for each question:"
   ]
  },
  {
   "cell_type": "code",
   "execution_count": 136,
   "metadata": {},
   "outputs": [],
   "source": [
    "from openpyxl.chart import BarChart, Series, Reference\n",
    "from openpyxl.chart.label import DataLabelList\n",
    "wb = load_workbook(filename=\"Survey.xlsx\") \n",
    "ws = wb.active\n"
   ]
  },
  {
   "cell_type": "code",
   "execution_count": 146,
   "metadata": {},
   "outputs": [],
   "source": [
    "for ws in wb.worksheets:\n",
    "    # Data for plotting\n",
    "    values = Reference(ws, min_col= 2, min_row=3, max_col = 2, max_row = 7)\n",
    "    cats = Reference(ws, min_col=1, max_col=1, min_row=4, max_row=8)\n",
    "\n",
    "    # Create object of BarChart class\n",
    "    chart = BarChart()\n",
    "    chart.height = 10\n",
    "    chart.width = 15\n",
    "    chart.add_data(values, titles_from_data=True)\n",
    "    chart.set_categories(cats)\n",
    "    # set the title of the chart\n",
    "    chart.title = ws[\"A2\"].value\n",
    "\n",
    "    # the top-left corner of the chart\n",
    "    # is anchored to cell F2 .\n",
    "    chart.varyColors = \"000F0FFF\"\n",
    "    ws.add_chart(chart,\"H2\")\n",
    "\n",
    "# save the file \n",
    "wb.save(\"test.xlsx\")   ###check the test result at new created \"test.xlsx\" file "
   ]
  },
  {
   "cell_type": "markdown",
   "metadata": {},
   "source": []
  },
  {
   "cell_type": "code",
   "execution_count": null,
   "metadata": {},
   "outputs": [],
   "source": []
  },
  {
   "cell_type": "code",
   "execution_count": null,
   "metadata": {},
   "outputs": [],
   "source": []
  }
 ],
 "metadata": {
  "interpreter": {
   "hash": "8a8e84e92a9047c5e1f92d8b75e5225db6346aa8f60b8ab121598a6d81c0a2c3"
  },
  "kernelspec": {
   "display_name": "Python 3.8.13 ('dsc80')",
   "language": "python",
   "name": "python3"
  },
  "language_info": {
   "codemirror_mode": {
    "name": "ipython",
    "version": 3
   },
   "file_extension": ".py",
   "mimetype": "text/x-python",
   "name": "python",
   "nbconvert_exporter": "python",
   "pygments_lexer": "ipython3",
   "version": "3.8.13"
  },
  "orig_nbformat": 4
 },
 "nbformat": 4,
 "nbformat_minor": 2
}
