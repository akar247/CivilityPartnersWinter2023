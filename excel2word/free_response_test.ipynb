{
 "cells": [
  {
   "cell_type": "code",
   "execution_count": 95,
   "metadata": {},
   "outputs": [],
   "source": [
    "from openpyxl import load_workbook\n",
    "workbook = load_workbook(filename=\"Survey.xlsx\") \n",
    "#workbook.sheetnames\n",
    "#workbook.worksheets\n",
    "import docx"
   ]
  },
  {
   "cell_type": "code",
   "execution_count": 89,
   "metadata": {},
   "outputs": [
    {
     "name": "stdout",
     "output_type": "stream",
     "text": [
      "1.98 ms ± 23.5 µs per loop (mean ± std. dev. of 7 runs, 1,000 loops each)\n"
     ]
    }
   ],
   "source": [
    "#%%timeit\n",
    "free_responses={}\n",
    "for sheet in workbook.worksheets:\n",
    "    for i in range(1,20):\n",
    "        s=sheet[f\"A{i}\"].value\n",
    "        if s =='Respondent ID':\n",
    "            #print(sheet.title)\n",
    "            res=[]\n",
    "            for cell in sheet['C']:\n",
    "                if (cell.value!=None) and (cell.value!='Responses'):\n",
    "                    res.append(cell.value) # add res to that single question \n",
    "            #print(res)\n",
    "            free_responses[sheet.title]=res  #add list of res to one question to the big list\n",
    "            break\n",
    "#free_responses\n",
    "\n",
    "%timeit"
   ]
  },
  {
   "cell_type": "code",
   "execution_count": 96,
   "metadata": {},
   "outputs": [
    {
     "name": "stdout",
     "output_type": "stream",
     "text": [
      "4.11 ms ± 39.4 µs per loop (mean ± std. dev. of 7 runs, 100 loops each)\n"
     ]
    }
   ],
   "source": [
    "%%timeit\n",
    "free_responses={}\n",
    "for sheet in workbook.worksheets:\n",
    "    for i in range(1,20):\n",
    "        s=sheet[f\"A{i}\"].value\n",
    "        if s =='Respondent ID':\n",
    "            #print(sheet.title)\n",
    "            res=[]\n",
    "            for cell in sheet['C']:\n",
    "                if (cell.value!=None) and (cell.value!='Responses'):\n",
    "                    res.append(cell.value) # add res to that single question \n",
    "            #print(res)\n",
    "            free_responses[sheet.title]=res  #add list of res to one question to the big list\n",
    "            \n",
    "#free_responses\n",
    "\n",
    "#%timeit"
   ]
  },
  {
   "cell_type": "code",
   "execution_count": 105,
   "metadata": {},
   "outputs": [],
   "source": [
    "doc = docx.Document()\n",
    "for key,values in free_responses.items():\n",
    "    doc.add_paragraph(key)\n",
    "    for res in values:\n",
    "        doc.add_paragraph(res)\n",
    "doc.save('output.docx')\n"
   ]
  },
  {
   "cell_type": "code",
   "execution_count": null,
   "metadata": {},
   "outputs": [],
   "source": []
  },
  {
   "cell_type": "code",
   "execution_count": null,
   "metadata": {},
   "outputs": [],
   "source": []
  }
 ],
 "metadata": {
  "interpreter": {
   "hash": "8a8e84e92a9047c5e1f92d8b75e5225db6346aa8f60b8ab121598a6d81c0a2c3"
  },
  "kernelspec": {
   "display_name": "Python 3.8.13 ('dsc80')",
   "language": "python",
   "name": "python3"
  },
  "language_info": {
   "codemirror_mode": {
    "name": "ipython",
    "version": 3
   },
   "file_extension": ".py",
   "mimetype": "text/x-python",
   "name": "python",
   "nbconvert_exporter": "python",
   "pygments_lexer": "ipython3",
   "version": "3.8.13"
  },
  "orig_nbformat": 4
 },
 "nbformat": 4,
 "nbformat_minor": 2
}
