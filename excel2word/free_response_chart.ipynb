{
 "cells": [
  {
   "cell_type": "code",
   "execution_count": 114,
   "metadata": {},
   "outputs": [],
   "source": [
    "from openpyxl import load_workbook\n",
    "import os\n",
    "\n",
    "workbook = load_workbook(filename=\"Survey.xlsx\") \n",
    "Sheet_Names = [workbook.sheetnames]\n",
    "#workbook.sheetnames\n",
    "#workbook.worksheets\n",
    "import docx"
   ]
  },
  {
   "cell_type": "code",
   "execution_count": 115,
   "metadata": {},
   "outputs": [],
   "source": [
    "\n",
    "free_responses={}\n",
    "for sheet in workbook.worksheets:\n",
    "    lis=[]\n",
    "    freechart=[]\n",
    "    free_responses[sheet.title] = lis\n",
    "    for i in range(1,50):\n",
    "        s=sheet[f\"A{i}\"].value\n",
    "        res=[]\n",
    "        if s =='Respondent ID': # if the question is free-response\n",
    "            \n",
    "\n",
    "            #for cell in sheet[f'C{i+1}:C1048576']:\n",
    "            for value in sheet.iter_rows(min_row=i+1,min_col=3, max_col=3,values_only=True):\n",
    "                if (value[0]!=None):\n",
    "                    res.append(value[0]) # add res to that single question \n",
    "            #print(res)\n",
    "            free_responses[sheet.title]=res  #add list of res to one question to the big list\n",
    "            break\n",
    "            \n",
    "        \n",
    "        \n",
    "            \n",
    "\n",
    "#free_responses['Question 25']"
   ]
  },
  {
   "cell_type": "markdown",
   "metadata": {},
   "source": [
    "Creates a new chart for non-free response-only questions with a different color for each answer choice. Saves newly created excel file as \"test.xlsx\""
   ]
  },
  {
   "cell_type": "code",
   "execution_count": 120,
   "metadata": {},
   "outputs": [],
   "source": [
    "from openpyxl.chart import BarChart, Series, Reference\n",
    "from openpyxl.chart.label import DataLabelList\n",
    "wb = load_workbook(filename=\"Survey.xlsx\") \n",
    "ws = wb.active\n",
    "\n",
    "for ws in wb.worksheets:\n",
    "    # Data for plotting\n",
    "\n",
    "    \n",
    "\n",
    "    \n",
    "\n",
    "    first_empty_cell = ws.max_row+1\n",
    "\n",
    "    values = Reference(ws, min_col= 2, min_row=3, max_col = 2, max_row = first_empty_cell - 1)\n",
    "    cats = Reference(ws, min_col=1, max_col=1, min_row=4, max_row = first_empty_cell - 1)\n",
    "\n",
    "    # Create object of BarChart class\n",
    "    chart = BarChart()\n",
    "    chart.height = 10\n",
    "    chart.width = 15\n",
    "    chart.add_data(values, titles_from_data=True)\n",
    "    chart.set_categories(cats)\n",
    "    # set the title of the chart\n",
    "    chart.title = ws[\"A2\"].value\n",
    "\n",
    "    # the top-left corner of the chart\n",
    "    # is anchored to cell F2 .\n",
    "    chart.varyColors = \"000F0FFF\"\n",
    "    ws.add_chart(chart,\"H2\")\n",
    "    \n",
    "\n",
    "# save the file \n",
    "wb.save(\"test.xlsx\")   ###check the test result at new created \"test.xlsx\" file "
   ]
  },
  {
   "cell_type": "markdown",
   "metadata": {},
   "source": [
    "Creates Word Doc and inserts charts and free response responses in order"
   ]
  },
  {
   "cell_type": "code",
   "execution_count": 119,
   "metadata": {},
   "outputs": [],
   "source": [
    "doc = docx.Document()\n",
    "\n",
    "for key,values in free_responses.items():\n",
    "    length_key = len(free_responses[key])\n",
    "    ##print(length_key)\n",
    "    doc.add_paragraph(key)\n",
    "    ##if question is free response only OR multiple choice free response questions \n",
    "    if length_key > 1: \n",
    "       \n",
    "        ##if question has both free response questions AND a chart then add the chart\n",
    "        if os.path.exists(f'Images/Survey{key}.png'):\n",
    "            doc.add_picture(f'Images/Survey{key}.png')\n",
    "        ##adds free response answers in bullet format \n",
    "        for res in values:\n",
    "            doc.add_paragraph(res,style='List Bullet 2')\n",
    "    ##if question does not contain any free response responses \n",
    "    if length_key < 1:\n",
    "        doc.add_picture(f'Images/Survey{key}.png')\n",
    "doc.save('output.docx')\n"
   ]
  }
 ],
 "metadata": {
  "kernelspec": {
   "display_name": "Python 3.10.5 64-bit",
   "language": "python",
   "name": "python3"
  },
  "language_info": {
   "codemirror_mode": {
    "name": "ipython",
    "version": 3
   },
   "file_extension": ".py",
   "mimetype": "text/x-python",
   "name": "python",
   "nbconvert_exporter": "python",
   "pygments_lexer": "ipython3",
   "version": "3.10.5"
  },
  "orig_nbformat": 4,
  "vscode": {
   "interpreter": {
    "hash": "26de051ba29f2982a8de78e945f0abaf191376122a1563185a90213a26c5da77"
   }
  }
 },
 "nbformat": 4,
 "nbformat_minor": 2
}
