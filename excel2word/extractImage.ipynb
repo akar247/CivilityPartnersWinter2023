{
 "cells": [
  {
   "cell_type": "markdown",
   "metadata": {},
   "source": [
    "### 1. create charts with different Color; creating a new excel file \"new.xlsx\""
   ]
  },
  {
   "cell_type": "code",
   "execution_count": 38,
   "metadata": {},
   "outputs": [],
   "source": [
    "from openpyxl import load_workbook\n",
    "from openpyxl.chart import BarChart, Series, Reference\n",
    "from openpyxl.chart.label import DataLabelList\n",
    "wb = load_workbook(filename=\"Survey.xlsx\") \n",
    "ws = wb.active\n",
    "\n",
    "\n",
    "\n",
    "charts_lst=[]\n",
    "num=1\n",
    "for ws in wb.worksheets:  \n",
    "    if len(ws._charts)==1:\n",
    "        charts_lst.append(num)\n",
    "    for row in ws.iter_rows(min_col=1, max_col=1):\n",
    "        if row[0].value is None or row[0].value == \"Reason\":\n",
    "            maxrowchart = (row[0].row - 1)\n",
    "            break\n",
    "    values = Reference(ws, min_col= 2, min_row=3, max_col = 2, max_row = maxrowchart)\n",
    "    cats = Reference(ws, min_col=1, max_col=1, min_row=4, max_row= maxrowchart)\n",
    "\n",
    "# Create object of BarChart class\n",
    "    chart = BarChart()\n",
    "    chart.height = 10\n",
    "    chart.width = 15\n",
    "    chart.add_data(values, titles_from_data=True)\n",
    "    chart.set_categories(cats)\n",
    "                # set the title of the chart\n",
    "    chart.title = ws[\"A2\"].value\n",
    "\n",
    "                # the top-left corner of the chart\n",
    "                # is anchored to cell F2 .\n",
    "    chart.varyColors = \"000F0FFF\"\n",
    "        \n",
    "    for i in range(1,50):\n",
    "        s=ws[f\"A{i}\"].value\n",
    "        if s == 'Answer Choices': \n",
    "            ws.add_chart(chart,\"H2\")\n",
    "    num+=1\n",
    "wb.save(\"new.xlsx\")"
   ]
  },
  {
   "cell_type": "code",
   "execution_count": 39,
   "metadata": {},
   "outputs": [
    {
     "name": "stdout",
     "output_type": "stream",
     "text": [
      "[1, 2, 3, 4, 5, 6, 7, 8, 9, 10, 11, 12, 13, 14, 15, 16, 17, 18, 19, 20, 21, 22, 23, 24, 26, 27, 28, 29, 30, 31, 32, 33, 34, 35, 36, 37, 38, 40, 41, 42, 43, 44, 45, 46, 47, 48, 49, 50, 51, 52, 53, 54, 56, 57, 58, 59, 60, 61, 62, 63, 64, 65, 66, 67, 68, 69, 70, 71, 72, 73, 74, 75, 76, 77, 79, 80, 81, 82, 84, 85, 86, 87, 88, 92, 93, 94, 95]\n"
     ]
    }
   ],
   "source": [
    "#print(charts_lst) #contains the question number who has chart"
   ]
  },
  {
   "cell_type": "code",
   "execution_count": 40,
   "metadata": {},
   "outputs": [
    {
     "data": {
      "text/plain": [
       "87"
      ]
     },
     "execution_count": 40,
     "metadata": {},
     "output_type": "execute_result"
    }
   ],
   "source": [
    "#len(charts_lst)"
   ]
  },
  {
   "cell_type": "markdown",
   "metadata": {},
   "source": [
    "### Now, each multiple questionsheet has two charts"
   ]
  },
  {
   "cell_type": "code",
   "execution_count": 41,
   "metadata": {},
   "outputs": [
    {
     "data": {
      "text/plain": [
       "2"
      ]
     },
     "execution_count": 41,
     "metadata": {},
     "output_type": "execute_result"
    }
   ],
   "source": [
    "#len(ws._charts)"
   ]
  },
  {
   "cell_type": "markdown",
   "metadata": {},
   "source": [
    "### 2. Convert/Parse EXCEL to WORD \"new.docx\"\n",
    "#### Note: this Word doc is not final output: it just parse all the contents from excel"
   ]
  },
  {
   "cell_type": "markdown",
   "metadata": {},
   "source": [
    "(for now didn't work well by running it myself; instead i use the website below to get the word \"new.docx\")"
   ]
  },
  {
   "cell_type": "code",
   "execution_count": 51,
   "metadata": {},
   "outputs": [
    {
     "ename": "JVMNotFoundException",
     "evalue": "No JVM shared library file (jvm.dll) found. Try setting up the JAVA_HOME environment variable properly.",
     "output_type": "error",
     "traceback": [
      "\u001b[1;31m---------------------------------------------------------------------------\u001b[0m",
      "\u001b[1;31mJVMNotFoundException\u001b[0m                      Traceback (most recent call last)",
      "\u001b[1;32mc:\\Users\\damon\\OneDrive\\Documents\\GitHub\\CPxTCG\\excel2word\\extractImage.ipynb Cell 9\u001b[0m in \u001b[0;36m<cell line: 8>\u001b[1;34m()\u001b[0m\n\u001b[0;32m      <a href='vscode-notebook-cell:/c%3A/Users/damon/OneDrive/Documents/GitHub/CPxTCG/excel2word/extractImage.ipynb#X11sZmlsZQ%3D%3D?line=5'>6</a>\u001b[0m \u001b[39mimport\u001b[39;00m \u001b[39masposecells\u001b[39;00m     \n\u001b[0;32m      <a href='vscode-notebook-cell:/c%3A/Users/damon/OneDrive/Documents/GitHub/CPxTCG/excel2word/extractImage.ipynb#X11sZmlsZQ%3D%3D?line=6'>7</a>\u001b[0m \u001b[39mimport\u001b[39;00m \u001b[39mos\u001b[39;00m\n\u001b[1;32m----> <a href='vscode-notebook-cell:/c%3A/Users/damon/OneDrive/Documents/GitHub/CPxTCG/excel2word/extractImage.ipynb#X11sZmlsZQ%3D%3D?line=7'>8</a>\u001b[0m jpype\u001b[39m.\u001b[39;49mstartJVM() \n\u001b[0;32m      <a href='vscode-notebook-cell:/c%3A/Users/damon/OneDrive/Documents/GitHub/CPxTCG/excel2word/extractImage.ipynb#X11sZmlsZQ%3D%3D?line=8'>9</a>\u001b[0m \u001b[39mfrom\u001b[39;00m \u001b[39masposecells\u001b[39;00m\u001b[39m.\u001b[39;00m\u001b[39mapi\u001b[39;00m \u001b[39mimport\u001b[39;00m Workbook\n\u001b[0;32m     <a href='vscode-notebook-cell:/c%3A/Users/damon/OneDrive/Documents/GitHub/CPxTCG/excel2word/extractImage.ipynb#X11sZmlsZQ%3D%3D?line=9'>10</a>\u001b[0m workbook \u001b[39m=\u001b[39m Workbook(\u001b[39m\"\u001b[39m\u001b[39mnew.xlsx\u001b[39m\u001b[39m\"\u001b[39m)\n",
      "File \u001b[1;32m~\\AppData\\Roaming\\Python\\Python310\\site-packages\\jpype\\_core.py:184\u001b[0m, in \u001b[0;36mstartJVM\u001b[1;34m(*args, **kwargs)\u001b[0m\n\u001b[0;32m    182\u001b[0m     jvmpath \u001b[39m=\u001b[39m kwargs\u001b[39m.\u001b[39mpop(\u001b[39m'\u001b[39m\u001b[39mjvmpath\u001b[39m\u001b[39m'\u001b[39m)\n\u001b[0;32m    183\u001b[0m \u001b[39mif\u001b[39;00m \u001b[39mnot\u001b[39;00m jvmpath:\n\u001b[1;32m--> 184\u001b[0m     jvmpath \u001b[39m=\u001b[39m getDefaultJVMPath()\n\u001b[0;32m    186\u001b[0m \u001b[39m# Classpath handling\u001b[39;00m\n\u001b[0;32m    187\u001b[0m \u001b[39mif\u001b[39;00m _hasClassPath(args):\n\u001b[0;32m    188\u001b[0m     \u001b[39m# Old style, specified in the arguments\u001b[39;00m\n",
      "File \u001b[1;32m~\\AppData\\Roaming\\Python\\Python310\\site-packages\\jpype\\_jvmfinder.py:74\u001b[0m, in \u001b[0;36mgetDefaultJVMPath\u001b[1;34m()\u001b[0m\n\u001b[0;32m     72\u001b[0m \u001b[39melse\u001b[39;00m:\n\u001b[0;32m     73\u001b[0m     finder \u001b[39m=\u001b[39m LinuxJVMFinder()\n\u001b[1;32m---> 74\u001b[0m \u001b[39mreturn\u001b[39;00m finder\u001b[39m.\u001b[39;49mget_jvm_path()\n",
      "File \u001b[1;32m~\\AppData\\Roaming\\Python\\Python310\\site-packages\\jpype\\_jvmfinder.py:212\u001b[0m, in \u001b[0;36mJVMFinder.get_jvm_path\u001b[1;34m(self)\u001b[0m\n\u001b[0;32m    210\u001b[0m \u001b[39mif\u001b[39;00m jvm_notsupport_ext \u001b[39mis\u001b[39;00m \u001b[39mnot\u001b[39;00m \u001b[39mNone\u001b[39;00m:\n\u001b[0;32m    211\u001b[0m     \u001b[39mraise\u001b[39;00m jvm_notsupport_ext\n\u001b[1;32m--> 212\u001b[0m \u001b[39mraise\u001b[39;00m JVMNotFoundException(\u001b[39m\"\u001b[39m\u001b[39mNo JVM shared library file (\u001b[39m\u001b[39m{0}\u001b[39;00m\u001b[39m) \u001b[39m\u001b[39m\"\u001b[39m\n\u001b[0;32m    213\u001b[0m                            \u001b[39m\"\u001b[39m\u001b[39mfound. Try setting up the JAVA_HOME \u001b[39m\u001b[39m\"\u001b[39m\n\u001b[0;32m    214\u001b[0m                            \u001b[39m\"\u001b[39m\u001b[39menvironment variable properly.\u001b[39m\u001b[39m\"\u001b[39m\n\u001b[0;32m    215\u001b[0m                            \u001b[39m.\u001b[39mformat(\u001b[39mself\u001b[39m\u001b[39m.\u001b[39m_libfile))\n",
      "\u001b[1;31mJVMNotFoundException\u001b[0m: No JVM shared library file (jvm.dll) found. Try setting up the JAVA_HOME environment variable properly."
     ]
    }
   ],
   "source": [
    "#      https://products.aspose.com/cells/python-java/conversion/excel-to-word/\n",
    "\n",
    "# Convert/Parse EXCEL to WORD\n",
    "\n",
    "import jpype     \n",
    "import asposecells     \n",
    "import os\n",
    "jpype.startJVM() \n",
    "from asposecells.api import Workbook\n",
    "workbook = Workbook(\"new.xlsx\")\n",
    "workbook.Save(\"new.docx\")\n",
    "jpype.shutdownJVM()\n"
   ]
  },
  {
   "cell_type": "markdown",
   "metadata": {},
   "source": [
    "### 3. get all the images in \"new.docx\" and save it to an already-exist folder \"test\""
   ]
  },
  {
   "cell_type": "code",
   "execution_count": 43,
   "metadata": {},
   "outputs": [],
   "source": [
    "# create empty folder \"test\"\n",
    "import os\n",
    "import shutil\n",
    "dir = 'test'\n",
    "if os.path.exists(dir):\n",
    "    shutil.rmtree(dir)\n",
    "os.makedirs(dir)\n",
    "\n",
    "### EXTRACT ALL THE IMAGES IN \"new.DOC\n",
    "import docx2txt\n",
    "#extract text \n",
    "text = docx2txt.process(r\"new.docx\")\n",
    "#extract text and write images in Temporary Image directory\n",
    "text = docx2txt.process(r\"new.docx\",r\"test\")\n",
    "\n"
   ]
  },
  {
   "cell_type": "markdown",
   "metadata": {},
   "source": [
    "### note: in the folder we can see both one-color and multi-color chart for each question;\n",
    "###       current idea is to only use \"even number\" image (e.g image 2, image 4, ...)"
   ]
  },
  {
   "cell_type": "code",
   "execution_count": null,
   "metadata": {},
   "outputs": [],
   "source": []
  },
  {
   "cell_type": "markdown",
   "metadata": {},
   "source": [
    "## NEXT: -figure out step 2 -figure out to put the image into final docx in correct order...   \n",
    "##      idea: Dictionary, list to store the name of spreadsheets/questions who has multiple choices"
   ]
  },
  {
   "cell_type": "code",
   "execution_count": 44,
   "metadata": {},
   "outputs": [
    {
     "data": {
      "text/plain": [
       "87"
      ]
     },
     "execution_count": 44,
     "metadata": {},
     "output_type": "execute_result"
    }
   ],
   "source": [
    "import os\n",
    "lst=[]\n",
    "lst2=[]\n",
    "for i in os.listdir('test'):\n",
    "    if (int(i.split('.')[0][5:])%2)==1:\n",
    "        file=os.path.join('test',i)\n",
    "        #print(file)\n",
    "        lst.append(i)\n",
    "        if os.path.exists(file):\n",
    "            os.remove(file)\n",
    "    else:\n",
    "         lst2.append(i)\n",
    "len(lst)  "
   ]
  },
  {
   "cell_type": "code",
   "execution_count": 45,
   "metadata": {},
   "outputs": [
    {
     "name": "stdout",
     "output_type": "stream",
     "text": [
      "['Image2.png', 'Image4.png', 'Image6.png', 'Image8.png', 'Image10.png', 'Image12.png', 'Image14.png', 'Image16.png', 'Image18.png', 'Image20.png', 'Image22.png', 'Image24.png', 'Image26.png', 'Image28.png', 'Image30.png', 'Image32.png', 'Image34.png', 'Image36.png', 'Image38.png', 'Image40.png', 'Image42.png', 'Image44.png', 'Image46.png', 'Image48.png', 'Image50.png', 'Image52.png', 'Image54.png', 'Image56.png', 'Image58.png', 'Image60.png', 'Image62.png', 'Image64.png', 'Image66.png', 'Image68.png', 'Image70.png', 'Image72.png', 'Image74.png', 'Image76.png', 'Image78.png', 'Image80.png', 'Image82.png', 'Image84.png', 'Image86.png', 'Image88.png', 'Image90.png', 'Image92.png', 'Image94.png', 'Image96.png', 'Image98.png', 'Image100.png', 'Image102.png', 'Image104.png', 'Image106.png', 'Image108.png', 'Image110.png', 'Image112.png', 'Image114.png', 'Image116.png', 'Image118.png', 'Image120.png', 'Image122.png', 'Image124.png', 'Image126.png', 'Image128.png', 'Image130.png', 'Image132.png', 'Image134.png', 'Image136.png', 'Image138.png', 'Image140.png', 'Image142.png', 'Image144.png', 'Image146.png', 'Image148.png', 'Image150.png', 'Image152.png', 'Image154.png', 'Image156.png', 'Image158.png', 'Image160.png', 'Image162.png', 'Image164.png', 'Image166.png', 'Image168.png', 'Image170.png', 'Image172.png', 'Image174.png']\n"
     ]
    }
   ],
   "source": [
    "import natsort\n",
    "dirFiles= os.listdir('test')\n",
    "dirFiles_sorted = natsort.natsorted(dirFiles)\n",
    "#print(dirFiles_sorted)\n",
    "count=0\n",
    "folder = \"test\"\n",
    "\n",
    "for i in dirFiles_sorted:\n",
    "    dst = f\"SurveyQuestion {charts_lst[count]}.png\"\n",
    "    src =f\"{folder}/{i}\"  # foldername/filename, if .py file is outside folder\n",
    "    dst =f\"{folder}/{dst}\"\n",
    "         \n",
    "        # rename() function will\n",
    "        # rename all the files\n",
    "        \n",
    "    os.rename(src, dst)\n",
    "    \n",
    "    count = count + 1"
   ]
  },
  {
   "cell_type": "markdown",
   "metadata": {},
   "source": [
    "## further: need to sort the files; then save the file name w/ corresponding question number(charts_lst)"
   ]
  },
  {
   "cell_type": "code",
   "execution_count": 46,
   "metadata": {},
   "outputs": [],
   "source": [
    "from openpyxl import load_workbook\n",
    "import os\n",
    "\n",
    "workbook = load_workbook(filename=\"Survey.xlsx\") \n",
    "Sheet_Names = [workbook.sheetnames]\n",
    "#workbook.sheetnames\n",
    "#workbook.worksheets\n",
    "import docx"
   ]
  },
  {
   "cell_type": "code",
   "execution_count": 47,
   "metadata": {},
   "outputs": [],
   "source": [
    "\n",
    "free_responses={}\n",
    "for sheet in workbook.worksheets:\n",
    "    lis=[]\n",
    "    freechart=[]\n",
    "    free_responses[sheet.title] = lis\n",
    "    for i in range(1,50):\n",
    "        s=sheet[f\"A{i}\"].value\n",
    "        res=[]\n",
    "        if s =='Respondent ID': # if the question is free-response\n",
    "            #for cell in sheet[f'C{i+1}:C1048576']:\n",
    "            for value in sheet.iter_rows(min_row=i+1,min_col=3, max_col=3,values_only=True):\n",
    "                if (value[0]!=None):\n",
    "                    res.append(value[0]) # add res to that single question \n",
    "            #print(res)\n",
    "            free_responses[sheet.title]=res  #add list of res to one question to the big list\n",
    "            break     \n",
    "#free_responses['Question 25']"
   ]
  },
  {
   "cell_type": "code",
   "execution_count": 56,
   "metadata": {},
   "outputs": [],
   "source": [
    "import docx\n",
    "from docx.shared import Inches\n",
    "doc = docx.Document()\n",
    "\n",
    "for key,values in free_responses.items():\n",
    "    length_key = len(free_responses[key])\n",
    "    ##print(length_key)\n",
    "    doc.add_paragraph(key)\n",
    "    ##if question is free response only OR multiple choice free response questions \n",
    "    if length_key > 1: \n",
    "       \n",
    "        ##if question has both free response questions AND a chart then add the chart\n",
    "        if os.path.exists(f'test/Survey{key}.png'):\n",
    "            #doc.add_picture(f'test/Survey{key}.png')\n",
    "            doc.add_picture(f'test/Survey{key}.png', width=Inches(5.6), height=Inches(3.73))\n",
    "        ##adds free response answers in bullet format \n",
    "        for res in values:\n",
    "            doc.add_paragraph(res,style='List Bullet 2')\n",
    "    ##if question does not contain any free response responses \n",
    "    if length_key < 1:\n",
    "        #doc.add_picture(f'test/Survey{key}.png')\n",
    "        doc.add_picture(f'test/Survey{key}.png', width=Inches(5.6), height=Inches(3.73))\n",
    "doc.save('output.docx')\n",
    "\n",
    "\n"
   ]
  }
 ],
 "metadata": {
  "kernelspec": {
   "display_name": "Python 3.10.5 64-bit",
   "language": "python",
   "name": "python3"
  },
  "language_info": {
   "codemirror_mode": {
    "name": "ipython",
    "version": 3
   },
   "file_extension": ".py",
   "mimetype": "text/x-python",
   "name": "python",
   "nbconvert_exporter": "python",
   "pygments_lexer": "ipython3",
   "version": "3.10.5"
  },
  "orig_nbformat": 4,
  "vscode": {
   "interpreter": {
    "hash": "26de051ba29f2982a8de78e945f0abaf191376122a1563185a90213a26c5da77"
   }
  }
 },
 "nbformat": 4,
 "nbformat_minor": 2
}
