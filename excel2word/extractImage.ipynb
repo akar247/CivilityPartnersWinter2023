{
 "cells": [
  {
   "cell_type": "markdown",
   "metadata": {},
   "source": [
    "### 1. create charts with different Color; creating a new excel file \"new.xlsx\""
   ]
  },
  {
   "cell_type": "code",
   "execution_count": 1,
   "metadata": {},
   "outputs": [],
   "source": [
    "from openpyxl import load_workbook\n",
    "from openpyxl.chart import BarChart, Series, Reference\n",
    "from openpyxl.chart.label import DataLabelList\n",
    "wb = load_workbook(filename=\"Survey.xlsx\") \n",
    "ws = wb.active\n",
    "\n",
    "for ws in wb.worksheets:        \n",
    "    for row in ws.iter_rows(min_col=1, max_col=1):\n",
    "        if row[0].value is None or row[0].value == \"Reason\":\n",
    "            maxrowchart = (row[0].row - 1)\n",
    "            break\n",
    "    values = Reference(ws, min_col= 2, min_row=3, max_col = 2, max_row = maxrowchart)\n",
    "    cats = Reference(ws, min_col=1, max_col=1, min_row=4, max_row= maxrowchart)\n",
    "\n",
    "# Create object of BarChart class\n",
    "    chart = BarChart()\n",
    "    chart.height = 10\n",
    "    chart.width = 15\n",
    "    chart.add_data(values, titles_from_data=True)\n",
    "    chart.set_categories(cats)\n",
    "                # set the title of the chart\n",
    "    chart.title = ws[\"A2\"].value\n",
    "\n",
    "                # the top-left corner of the chart\n",
    "                # is anchored to cell F2 .\n",
    "    chart.varyColors = \"000F0FFF\"\n",
    "        \n",
    "    for i in range(1,50):\n",
    "        s=ws[f\"A{i}\"].value\n",
    "        if s == 'Answer Choices': \n",
    "            ws.add_chart(chart,\"H2\")\n",
    "wb.save(\"new.xlsx\")"
   ]
  },
  {
   "cell_type": "markdown",
   "metadata": {},
   "source": [
    "### Now, each multiple questionsheet has two charts"
   ]
  },
  {
   "cell_type": "code",
   "execution_count": 2,
   "metadata": {},
   "outputs": [
    {
     "data": {
      "text/plain": [
       "2"
      ]
     },
     "execution_count": 2,
     "metadata": {},
     "output_type": "execute_result"
    }
   ],
   "source": [
    "len(ws._charts)"
   ]
  },
  {
   "cell_type": "markdown",
   "metadata": {},
   "source": [
    "### 2. Convert/Parse EXCEL to WORD \"new.docx\"\n",
    "#### Note: this Word doc is not final output: it just parse all the contents from excel"
   ]
  },
  {
   "cell_type": "markdown",
   "metadata": {},
   "source": [
    "(for now didn't work well by running it myself; instead i use the website below to get the word \"new.docx\")"
   ]
  },
  {
   "cell_type": "code",
   "execution_count": 46,
   "metadata": {},
   "outputs": [],
   "source": [
    "#      https://products.aspose.com/cells/python-java/conversion/excel-to-word/\n",
    "\n",
    "# Convert/Parse EXCEL to WORD\n",
    "\n",
    "# import jpype     \n",
    "# import asposecells     \n",
    "# jpype.startJVM() \n",
    "# from asposecells.api import Workbook\n",
    "# workbook = Workbook(\"new.xlsx\")\n",
    "# workbook.Save(\"new.docx\")\n",
    "# jpype.shutdownJVM()\n",
    "\t"
   ]
  },
  {
   "cell_type": "markdown",
   "metadata": {},
   "source": [
    "### 3. get all the images in \"new.docx\" and save it to an already-exist folder \"test\""
   ]
  },
  {
   "cell_type": "code",
   "execution_count": 4,
   "metadata": {},
   "outputs": [],
   "source": []
  },
  {
   "cell_type": "code",
   "execution_count": 5,
   "metadata": {},
   "outputs": [],
   "source": [
    "# create empty folder \"test\"\n",
    "import os\n",
    "import shutil\n",
    "\n",
    "dir = 'test'\n",
    "if os.path.exists(dir):\n",
    "    shutil.rmtree(dir)\n",
    "os.makedirs(dir)\n",
    "\n",
    "### EXTRACT ALL THE IMAGES IN \"new.DOC\n",
    "import docx2txt\n",
    "#extract text \n",
    "text = docx2txt.process(r\"new.docx\")\n",
    "#extract text and write images in Temporary Image directory\n",
    "text = docx2txt.process(r\"new.docx\",r\"test\")\n",
    "\n"
   ]
  },
  {
   "cell_type": "markdown",
   "metadata": {},
   "source": [
    "### note: in the folder we can see both one-color and multi-color chart for each question;\n",
    "###       current idea is to only use \"even number\" image (e.g image 2, image 4, ...)"
   ]
  },
  {
   "cell_type": "code",
   "execution_count": null,
   "metadata": {},
   "outputs": [],
   "source": []
  },
  {
   "cell_type": "markdown",
   "metadata": {},
   "source": [
    "## NEXT: -figure out to put the image into final docx in correct order...   \n",
    "##      idea: Dictionary, list to store the name of spreadsheets/questions who has multiple choices"
   ]
  },
  {
   "cell_type": "code",
   "execution_count": null,
   "metadata": {},
   "outputs": [],
   "source": []
  },
  {
   "cell_type": "code",
   "execution_count": null,
   "metadata": {},
   "outputs": [],
   "source": []
  }
 ],
 "metadata": {
  "interpreter": {
   "hash": "8a8e84e92a9047c5e1f92d8b75e5225db6346aa8f60b8ab121598a6d81c0a2c3"
  },
  "kernelspec": {
   "display_name": "Python 3.8.13 ('dsc80')",
   "language": "python",
   "name": "python3"
  },
  "language_info": {
   "codemirror_mode": {
    "name": "ipython",
    "version": 3
   },
   "file_extension": ".py",
   "mimetype": "text/x-python",
   "name": "python",
   "nbconvert_exporter": "python",
   "pygments_lexer": "ipython3",
   "version": "3.8.13"
  },
  "orig_nbformat": 4
 },
 "nbformat": 4,
 "nbformat_minor": 2
}
