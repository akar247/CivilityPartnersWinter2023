{
 "cells": [
  {
   "cell_type": "markdown",
   "metadata": {},
   "source": [
    "### 1. create charts with different Color; creating a new excel file \"new.xlsx\""
   ]
  },
  {
   "cell_type": "code",
   "execution_count": 125,
   "metadata": {},
   "outputs": [],
   "source": [
    "from openpyxl import load_workbook\n",
    "from openpyxl.chart import BarChart, Series, Reference\n",
    "from openpyxl.chart.label import DataLabelList\n",
    "wb = load_workbook(filename=\"Survey.xlsx\") \n",
    "ws = wb.active\n",
    "\n",
    "charts_lst=[]\n",
    "num=1\n",
    "for ws in wb.worksheets:  \n",
    "    if len(ws._charts)==1:\n",
    "        charts_lst.append(num)\n",
    "    for row in ws.iter_rows(min_col=1, max_col=1):\n",
    "        if row[0].value is None or row[0].value == \"Reason\":\n",
    "            maxrowchart = (row[0].row - 1)\n",
    "            break\n",
    "    values = Reference(ws, min_col= 2, min_row=3, max_col = 2, max_row = maxrowchart)\n",
    "    cats = Reference(ws, min_col=1, max_col=1, min_row=4, max_row= maxrowchart)\n",
    "\n",
    "# Create object of BarChart class\n",
    "    chart = BarChart()\n",
    "    chart.height = 10\n",
    "    chart.width = 15\n",
    "    chart.add_data(values, titles_from_data=True)\n",
    "    chart.set_categories(cats)\n",
    "                # set the title of the chart\n",
    "    chart.title = ws[\"A2\"].value\n",
    "\n",
    "                # the top-left corner of the chart\n",
    "                # is anchored to cell F2 .\n",
    "    chart.varyColors = \"000F0FFF\"\n",
    "        \n",
    "    for i in range(1,50):\n",
    "        s=ws[f\"A{i}\"].value\n",
    "        if s == 'Answer Choices': \n",
    "            ws.add_chart(chart,\"H2\")\n",
    "    num+=1\n",
    "wb.save(\"new.xlsx\")"
   ]
  },
  {
   "cell_type": "code",
   "execution_count": 126,
   "metadata": {},
   "outputs": [
    {
     "name": "stdout",
     "output_type": "stream",
     "text": [
      "[1, 2, 3, 4, 5, 6, 7, 8, 9, 10, 11, 12, 13, 14, 15, 16, 17, 18, 19, 20, 21, 22, 23, 24, 26, 27, 28, 29, 30, 31, 32, 33, 34, 35, 36, 37, 38, 40, 41, 42, 43, 44, 45, 46, 47, 48, 49, 50, 51, 52, 53, 54, 56, 57, 58, 59, 60, 61, 62, 63, 64, 65, 66, 67, 68, 69, 70, 71, 72, 73, 74, 75, 76, 77, 79, 80, 81, 82, 84, 85, 86, 87, 88, 92, 93, 94, 95]\n"
     ]
    }
   ],
   "source": [
    "print(charts_lst) #contains the question number who has chart"
   ]
  },
  {
   "cell_type": "code",
   "execution_count": 127,
   "metadata": {},
   "outputs": [
    {
     "data": {
      "text/plain": [
       "87"
      ]
     },
     "execution_count": 127,
     "metadata": {},
     "output_type": "execute_result"
    }
   ],
   "source": [
    "len(charts_lst)"
   ]
  },
  {
   "cell_type": "markdown",
   "metadata": {},
   "source": [
    "### Now, each multiple questionsheet has two charts"
   ]
  },
  {
   "cell_type": "code",
   "execution_count": 128,
   "metadata": {},
   "outputs": [
    {
     "data": {
      "text/plain": [
       "2"
      ]
     },
     "execution_count": 128,
     "metadata": {},
     "output_type": "execute_result"
    }
   ],
   "source": [
    "len(ws._charts)"
   ]
  },
  {
   "cell_type": "markdown",
   "metadata": {},
   "source": [
    "### 2. Convert/Parse EXCEL to WORD \"new.docx\"\n",
    "#### Note: this Word doc is not final output: it just parse all the contents from excel"
   ]
  },
  {
   "cell_type": "markdown",
   "metadata": {},
   "source": [
    "(for now didn't work well by running it myself; instead i use the website below to get the word \"new.docx\")"
   ]
  },
  {
   "cell_type": "code",
   "execution_count": 46,
   "metadata": {},
   "outputs": [],
   "source": [
    "#      https://products.aspose.com/cells/python-java/conversion/excel-to-word/\n",
    "\n",
    "# Convert/Parse EXCEL to WORD\n",
    "\n",
    "# import jpype     \n",
    "# import asposecells     \n",
    "# jpype.startJVM() \n",
    "# from asposecells.api import Workbook\n",
    "# workbook = Workbook(\"new.xlsx\")\n",
    "# workbook.Save(\"new.docx\")\n",
    "# jpype.shutdownJVM()\n",
    "\t"
   ]
  },
  {
   "cell_type": "markdown",
   "metadata": {},
   "source": [
    "### 3. get all the images in \"new.docx\" and save it to an already-exist folder \"test\""
   ]
  },
  {
   "cell_type": "code",
   "execution_count": 121,
   "metadata": {},
   "outputs": [],
   "source": [
    "# create empty folder \"test\"\n",
    "import os\n",
    "import shutil\n",
    "dir = 'test'\n",
    "if os.path.exists(dir):\n",
    "    shutil.rmtree(dir)\n",
    "os.makedirs(dir)\n",
    "\n",
    "### EXTRACT ALL THE IMAGES IN \"new.DOC\n",
    "import docx2txt\n",
    "#extract text \n",
    "text = docx2txt.process(r\"new.docx\")\n",
    "#extract text and write images in Temporary Image directory\n",
    "text = docx2txt.process(r\"new.docx\",r\"test\")\n",
    "\n"
   ]
  },
  {
   "cell_type": "markdown",
   "metadata": {},
   "source": [
    "### note: in the folder we can see both one-color and multi-color chart for each question;\n",
    "###       current idea is to only use \"even number\" image (e.g image 2, image 4, ...)"
   ]
  },
  {
   "cell_type": "code",
   "execution_count": null,
   "metadata": {},
   "outputs": [],
   "source": []
  },
  {
   "cell_type": "markdown",
   "metadata": {},
   "source": [
    "## NEXT: -figure out step 2 -figure out to put the image into final docx in correct order...   \n",
    "##      idea: Dictionary, list to store the name of spreadsheets/questions who has multiple choices"
   ]
  },
  {
   "cell_type": "code",
   "execution_count": 122,
   "metadata": {},
   "outputs": [
    {
     "data": {
      "text/plain": [
       "87"
      ]
     },
     "execution_count": 122,
     "metadata": {},
     "output_type": "execute_result"
    }
   ],
   "source": [
    "import os\n",
    "lst=[]\n",
    "for i in os.listdir('test'):\n",
    "    if (int(i.split('.')[0][5:])%2)==1:\n",
    "        file=os.path.join('test',i)\n",
    "        # print(file)\n",
    "        lst.append(i)\n",
    "        if os.path.exists(file):\n",
    "            os.remove(file)\n",
    "    # else:\n",
    "    #     os.rename(i.split('.')[0][5:]+'.png','/Users/sara/CPxTCG/excel2word/test copy')\n",
    "len(lst)  "
   ]
  },
  {
   "cell_type": "markdown",
   "metadata": {},
   "source": [
    "## further: need to sort the files; then save the file name w/ corresponding question number(charts_lst)"
   ]
  },
  {
   "cell_type": "code",
   "execution_count": null,
   "metadata": {},
   "outputs": [],
   "source": []
  }
 ],
 "metadata": {
  "interpreter": {
   "hash": "8a8e84e92a9047c5e1f92d8b75e5225db6346aa8f60b8ab121598a6d81c0a2c3"
  },
  "kernelspec": {
   "display_name": "Python 3.8.13 ('dsc80')",
   "language": "python",
   "name": "python3"
  },
  "language_info": {
   "codemirror_mode": {
    "name": "ipython",
    "version": 3
   },
   "file_extension": ".py",
   "mimetype": "text/x-python",
   "name": "python",
   "nbconvert_exporter": "python",
   "pygments_lexer": "ipython3",
   "version": "3.8.13"
  },
  "orig_nbformat": 4
 },
 "nbformat": 4,
 "nbformat_minor": 2
}
